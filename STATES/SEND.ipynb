{
 "cells": [
  {
   "cell_type": "code",
   "execution_count": null,
   "id": "12aa531f",
   "metadata": {},
   "outputs": [],
   "source": [
    "import cirq\n",
    "import networkx as nx\n",
    "import numpy as np\n",
    "import matplotlib.pyplot as plt\n",
    "from mpl_toolkits.mplot3d import Axes3D\n",
    "\n",
    "i = cirq.NamedQubit('i')\n",
    "j = cirq.NamedQubit('j')\n",
    "k = cirq.NamedQubit('k')\n",
    "a = cirq.NamedQubit('a')\n",
    "b = cirq.NamedQubit('b')\n",
    "c = cirq.NamedQubit('c')\n",
    "d = cirq.NamedQubit('d')\n",
    "e = cirq.NamedQubit('e')\n",
    "M = cirq.NamedQubit('M')"
   ]
  },
  {
   "cell_type": "code",
   "execution_count": null,
   "id": "5d72756e",
   "metadata": {},
   "outputs": [],
   "source": [
    "def send_state(i,j,k): #|010>\n",
    "    circuit_send = cirq.Circuit(cirq.R(i), cirq.CNOT(i, j), cirq.CNOT(i, k), cirq.X(j), cirq.measure(i,j,k))\n",
    "    sim = cirq.Simulator()\n",
    "    result = sim.run(circuit_send, repetitions=1)\n",
    "    measurement = \"\".join((map(str,result.measurements.values())))\n",
    "    vector_ijk = ''.join(measurement.split())[2:5]\n",
    "    print(\"send_state:\\nCircuit\"), print(circuit_send)\n",
    "    print(\"Result\"), print(result)\n",
    "    print(\"Measurement vector_ijk:\", vector_ijk)\n",
    "    return(vector_ijk)\n",
    "send_state(i,j,k)"
   ]
  },
  {
   "cell_type": "code",
   "execution_count": null,
   "id": "a73cc793",
   "metadata": {},
   "outputs": [],
   "source": [
    "def create_ladder_strcuture():\n",
    "    G5 = nx.Graph()\n",
    "    \n",
    "    nodes_coords = {\n",
    "        c: (1, 2.5),\n",
    "        b: (1, 1.5),\n",
    "        d: (2, 2),\n",
    "        e: (2, 1),\n",
    "        i: (3, 2.5),\n",
    "        j: (3, 1.5),\n",
    "        k: (4, 2),\n",
    "        a: (0, 1),\n",
    "    }\n",
    "\n",
    "    edges = [\n",
    "        (c, b), (c, d), (d, i),\n",
    "        (d, e), (j, i), (i, k),\n",
    "        (a, b), (b, e), (e, j),\n",
    "        (j,a), (c,k)\n",
    "    ]\n",
    "    G5.add_nodes_from(nodes_coords.keys())\n",
    "    G5.add_edges_from(edges)\n",
    "    nx.draw(G5, pos = nodes_coords, with_labels=True, node_size=700, node_color='lightblue', font_size=10, font_color='black')\n",
    "    plt.title(\"Ladder Formation of Qubits\\n SEND STATE\")\n",
    "create_ladder_strcuture()"
   ]
  }
 ],
 "metadata": {
  "language_info": {
   "name": "python"
  }
 },
 "nbformat": 4,
 "nbformat_minor": 5
}
