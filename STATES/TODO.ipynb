{
 "cells": [
  {
   "cell_type": "markdown",
   "id": "8d5e93c4",
   "metadata": {},
   "source": [
    "Restructure code to move from qubit to qutrit paradigm in [-1, 0, 1] basis.\n",
    "Use manim to create 3D plots and animations to convey transitions between function states.\n"
   ]
  }
 ],
 "metadata": {
  "language_info": {
   "name": "python"
  }
 },
 "nbformat": 4,
 "nbformat_minor": 5
}
