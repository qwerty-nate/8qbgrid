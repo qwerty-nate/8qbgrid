{
 "cells": [
  {
   "cell_type": "code",
   "execution_count": null,
   "id": "97f17f92",
   "metadata": {},
   "outputs": [],
   "source": [
    "import cirq\n",
    "import networkx as nx\n",
    "import numpy as np\n",
    "import matplotlib.pyplot as plt\n",
    "from mpl_toolkits.mplot3d import Axes3D\n",
    "\n",
    "i = cirq.NamedQubit('i')\n",
    "j = cirq.NamedQubit('j')\n",
    "k = cirq.NamedQubit('k')\n",
    "a = cirq.NamedQubit('a')\n",
    "b = cirq.NamedQubit('b')\n",
    "c = cirq.NamedQubit('c')\n",
    "d = cirq.NamedQubit('d')\n",
    "e = cirq.NamedQubit('e')\n",
    "M = cirq.NamedQubit('M')"
   ]
  },
  {
   "cell_type": "code",
   "execution_count": null,
   "id": "63f4fd73",
   "metadata": {},
   "outputs": [],
   "source": [
    "def store_state(i,j,k): # |011>\n",
    "    circuit_store = cirq.Circuit(cirq.R(i), cirq.X(i), cirq.CNOT(i, j), cirq.CNOT(i, k), cirq.X(i), cirq.measure(i,j,k))\n",
    "    sim = cirq.Simulator()\n",
    "    result = sim.run(circuit_store, repetitions=1)\n",
    "    measurement = \"\".join((map(str,result.measurements.values())))\n",
    "    vector_ijk = ''.join(measurement.split())[2:5]\n",
    "    print(\"store_state:\\nCircuit\"), print(circuit_store)\n",
    "    print(\"Result\"), print(result)\n",
    "    print(\"Measurement vector_ijk:\", vector_ijk)\n",
    "    return(vector_ijk)\n",
    "store_state(i,j,k)"
   ]
  },
  {
   "cell_type": "code",
   "execution_count": null,
   "id": "4f2cd889",
   "metadata": {},
   "outputs": [],
   "source": [
    "def create_chair_structure():\n",
    "    G4 = nx.Graph()\n",
    "    \n",
    "    nodes_coords = {\n",
    "        i: (2.75, 3),\n",
    "        j: (2.75, 2),\n",
    "        k: (2, 2),\n",
    "        a: (2, 1),\n",
    "        b: (1, 1),\n",
    "        c: (1, 2),\n",
    "        d: (2, 2.25),\n",
    "        e: (2, 0.75)\n",
    "    }\n",
    "\n",
    "    edges = [\n",
    "        (c, d), (c, k), (c, b),\n",
    "        (d, k), (d, i),\n",
    "        (k, a), (k, i),\n",
    "        (i, j), (j, e), (j, a),\n",
    "        (a, e), (b, a), (b, e)\n",
    "    ]\n",
    "    G4.add_nodes_from(nodes_coords.keys())\n",
    "    G4.add_edges_from(edges)\n",
    "    nx.draw(G4, pos = nodes_coords, with_labels=True, node_size=700, node_color='lightblue', font_size=10, font_color='black')\n",
    "    plt.title(\"Chair Formation of Qubits\\n STORE STATE\")\n",
    "create_chair_structure()"
   ]
  }
 ],
 "metadata": {
  "kernelspec": {
   "display_name": "Python 3",
   "language": "python",
   "name": "python3"
  },
  "language_info": {
   "name": "python",
   "version": "3.13.3"
  }
 },
 "nbformat": 4,
 "nbformat_minor": 5
}
